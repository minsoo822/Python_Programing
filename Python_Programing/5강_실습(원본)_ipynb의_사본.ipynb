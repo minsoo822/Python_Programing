{
  "nbformat": 4,
  "nbformat_minor": 0,
  "metadata": {
    "colab": {
      "provenance": [],
      "include_colab_link": true
    },
    "kernelspec": {
      "name": "python3",
      "display_name": "Python 3"
    },
    "language_info": {
      "name": "python"
    }
  },
  "cells": [
    {
      "cell_type": "markdown",
      "metadata": {
        "id": "view-in-github",
        "colab_type": "text"
      },
      "source": [
        "<a href=\"https://colab.research.google.com/github/minsoo822/Python_Programing/blob/main/5%EA%B0%95_%EC%8B%A4%EC%8A%B5(%EC%9B%90%EB%B3%B8)_ipynb%EC%9D%98_%EC%82%AC%EB%B3%B8.ipynb\" target=\"_parent\"><img src=\"https://colab.research.google.com/assets/colab-badge.svg\" alt=\"Open In Colab\"/></a>"
      ]
    },
    {
      "cell_type": "markdown",
      "source": [
        "# 5강 2절"
      ],
      "metadata": {
        "id": "QaMMtoihlN9D"
      }
    },
    {
      "cell_type": "markdown",
      "source": [
        "삼각형 출력하기"
      ],
      "metadata": {
        "id": "zsVGhzcxlSh2"
      }
    },
    {
      "cell_type": "code",
      "execution_count": null,
      "metadata": {
        "id": "Uzg7FWgclGzv",
        "colab": {
          "base_uri": "https://localhost:8080/"
        },
        "outputId": "27b0674c-30ab-4074-cb6c-9db71140f19c"
      },
      "outputs": [
        {
          "output_type": "stream",
          "name": "stdout",
          "text": [
            "   *\n",
            "  ***\n",
            " *****\n",
            "*******\n"
          ]
        }
      ],
      "source": [
        "print(\"   *\")\n",
        "print(\"  ***\")\n",
        "print(\" *****\")\n",
        "print(\"*******\")"
      ]
    },
    {
      "cell_type": "code",
      "source": [
        "input(\"반지름의 값을 입력하세요 : \")"
      ],
      "metadata": {
        "colab": {
          "base_uri": "https://localhost:8080/",
          "height": 54
        },
        "id": "tnxIbZrt3yWo",
        "outputId": "93b96556-fc65-4e1b-df99-0c45cf7366a3"
      },
      "execution_count": 13,
      "outputs": [
        {
          "name": "stdout",
          "output_type": "stream",
          "text": [
            "반지름의 값을 입력하세요 : 30\n"
          ]
        },
        {
          "output_type": "execute_result",
          "data": {
            "text/plain": [
              "'30'"
            ],
            "application/vnd.google.colaboratory.intrinsic+json": {
              "type": "string"
            }
          },
          "metadata": {},
          "execution_count": 13
        }
      ]
    },
    {
      "cell_type": "code",
      "source": [
        "int(input(\"반지름의 값을 입력하세요 : \"))"
      ],
      "metadata": {
        "colab": {
          "base_uri": "https://localhost:8080/"
        },
        "id": "2Pht5HNbz_xV",
        "outputId": "8ade58b2-81fe-4030-b23c-695815241421"
      },
      "execution_count": 14,
      "outputs": [
        {
          "name": "stdout",
          "output_type": "stream",
          "text": [
            "반지름의 값을 입력하세요 : 30\n"
          ]
        },
        {
          "output_type": "execute_result",
          "data": {
            "text/plain": [
              "30"
            ]
          },
          "metadata": {},
          "execution_count": 14
        }
      ]
    },
    {
      "cell_type": "markdown",
      "source": [
        "원뿔 계산 프로그램 개선"
      ],
      "metadata": {
        "id": "o1aoIihhlrBZ"
      }
    },
    {
      "cell_type": "code",
      "source": [
        "#반지름, 높이 값 할당\n",
        "rad = 20\n",
        "hei = 30\n",
        "#부피 출력\n",
        "print(1 / 3 * 3.14 * rad ** 2 * hei )\n",
        "#겉넓이 출력\n",
        "print(3.14 * rad ** 2 + 3.14 * rad * hei)"
      ],
      "metadata": {
        "id": "jzJqpbKgluL7",
        "colab": {
          "base_uri": "https://localhost:8080/"
        },
        "outputId": "f4fc113f-e4e2-4836-9519-0de014bce4ad"
      },
      "execution_count": 6,
      "outputs": [
        {
          "output_type": "stream",
          "name": "stdout",
          "text": [
            "12559.999999999998\n",
            "3140.0\n"
          ]
        }
      ]
    },
    {
      "cell_type": "code",
      "source": [
        "#반지름, 높이 값 할당\n",
        "rad = input(\"반지름을 입력하세요: \")\n",
        "rad = int(rad)\n",
        "hei = input(\"높이를 입력하세요: \")\n",
        "hei = int(hei)\n",
        "#부피 출력\n",
        "print(1 / 3 * 3.14 * rad ** 2 * hei )\n",
        "#겉넓이 출력\n",
        "print(3.14 * rad ** 2 + 3.14 * rad * hei)\n",
        "\n",
        "# 타입이 맞지않아 에러가 발생한다.\n",
        "# 문자열 변환함수 str()\n",
        "#  정 수 변환함수 int()\n",
        "#  실 수 변환함수 float()\n",
        "\n",
        "# 사용자 입력을 받아서 들어온 데이터는 모든것이 다 문자열이다!"
      ],
      "metadata": {
        "colab": {
          "base_uri": "https://localhost:8080/"
        },
        "id": "clqQBZypyVwW",
        "outputId": "eeab4c53-e059-4aff-eb3e-269617634803"
      },
      "execution_count": 15,
      "outputs": [
        {
          "output_type": "stream",
          "name": "stdout",
          "text": [
            "반지름을 입력하세요: 30\n",
            "높이를 입력하세요: 0\n",
            "0.0\n",
            "2826.0\n"
          ]
        }
      ]
    },
    {
      "cell_type": "code",
      "source": [
        "#반지름, 높이 값 할당\n",
        "rad = int(input(\"반지름을 입력하세요: \"))\n",
        "hei = int(input(\"높이를 입력하세요: \"))\n",
        "#부피 출력\n",
        "print(\"부피의 값은\", 1 / 3 * 3.14 * rad ** 2 * hei, \"입니다.\", sep=\"\")\n",
        "#겉넓이 출력\n",
        "print(\"겉넓이는 값은\",3.14 * rad ** 2 + 3.14 * rad * hei, \"입니다.\")            #sep가 없을때는 ,사이에 공백을 하나 만들어준다.\n",
        "print(\"겉넓이는 값은\",3.14 * rad ** 2 + 3.14 * rad * hei, \"입니다.\", sep=\" \")   #공백 1개 일때\n",
        "print(\"겉넓이는 값은\",3.14 * rad ** 2 + 3.14 * rad * hei, \"입니다.\", sep=\"  \")  #공백 2개 일때\n",
        "print(\"겉넓이는 값은\",3.14 * rad ** 2 + 3.14 * rad * hei, \"입니다.\", sep=\"   \") #공백 3개 일때\n",
        "\n",
        "# 함수를 중첩해서 사용할 수 있다.\n",
        "# 여러 개의 파라미터를 받을 수 있는 print 함수\n",
        "# sep 를 통해서 공백을 조절 할 수 있다.\n"
      ],
      "metadata": {
        "colab": {
          "base_uri": "https://localhost:8080/"
        },
        "id": "gOdepMtOyDpl",
        "outputId": "4ca858dc-e583-4508-df06-2111e1ba2672"
      },
      "execution_count": 21,
      "outputs": [
        {
          "output_type": "stream",
          "name": "stdout",
          "text": [
            "반지름을 입력하세요: 50\n",
            "높이를 입력하세요: 100\n",
            "부피의 값은261666.66666666666입니다.\n",
            "겉넓이는 값은 23550.0 입니다.\n",
            "겉넓이는 값은 23550.0 입니다.\n",
            "겉넓이는 값은  23550.0  입니다.\n",
            "겉넓이는 값은   23550.0   입니다.\n"
          ]
        }
      ]
    }
  ]
}
